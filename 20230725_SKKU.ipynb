{
 "cells": [
  {
   "cell_type": "markdown",
   "metadata": {},
   "source": [
    "## 라이브러리"
   ]
  },
  {
   "cell_type": "code",
   "execution_count": 2,
   "metadata": {},
   "outputs": [],
   "source": [
    "import calendar"
   ]
  },
  {
   "cell_type": "code",
   "execution_count": 3,
   "metadata": {},
   "outputs": [
    {
     "data": {
      "text/plain": [
       "'                                  2025\\n\\n      January                   February                   March\\nMo Tu We Th Fr Sa Su      Mo Tu We Th Fr Sa Su      Mo Tu We Th Fr Sa Su\\n       1  2  3  4  5                      1  2                      1  2\\n 6  7  8  9 10 11 12       3  4  5  6  7  8  9       3  4  5  6  7  8  9\\n13 14 15 16 17 18 19      10 11 12 13 14 15 16      10 11 12 13 14 15 16\\n20 21 22 23 24 25 26      17 18 19 20 21 22 23      17 18 19 20 21 22 23\\n27 28 29 30 31            24 25 26 27 28            24 25 26 27 28 29 30\\n                                                    31\\n\\n       April                      May                       June\\nMo Tu We Th Fr Sa Su      Mo Tu We Th Fr Sa Su      Mo Tu We Th Fr Sa Su\\n    1  2  3  4  5  6                1  2  3  4                         1\\n 7  8  9 10 11 12 13       5  6  7  8  9 10 11       2  3  4  5  6  7  8\\n14 15 16 17 18 19 20      12 13 14 15 16 17 18       9 10 11 12 13 14 15\\n21 22 23 24 25 26 27      19 20 21 22 23 24 25      16 17 18 19 20 21 22\\n28 29 30                  26 27 28 29 30 31         23 24 25 26 27 28 29\\n                                                    30\\n\\n        July                     August                  September\\nMo Tu We Th Fr Sa Su      Mo Tu We Th Fr Sa Su      Mo Tu We Th Fr Sa Su\\n    1  2  3  4  5  6                   1  2  3       1  2  3  4  5  6  7\\n 7  8  9 10 11 12 13       4  5  6  7  8  9 10       8  9 10 11 12 13 14\\n14 15 16 17 18 19 20      11 12 13 14 15 16 17      15 16 17 18 19 20 21\\n21 22 23 24 25 26 27      18 19 20 21 22 23 24      22 23 24 25 26 27 28\\n28 29 30 31               25 26 27 28 29 30 31      29 30\\n\\n      October                   November                  December\\nMo Tu We Th Fr Sa Su      Mo Tu We Th Fr Sa Su      Mo Tu We Th Fr Sa Su\\n       1  2  3  4  5                      1  2       1  2  3  4  5  6  7\\n 6  7  8  9 10 11 12       3  4  5  6  7  8  9       8  9 10 11 12 13 14\\n13 14 15 16 17 18 19      10 11 12 13 14 15 16      15 16 17 18 19 20 21\\n20 21 22 23 24 25 26      17 18 19 20 21 22 23      22 23 24 25 26 27 28\\n27 28 29 30 31            24 25 26 27 28 29 30      29 30 31\\n'"
      ]
     },
     "execution_count": 3,
     "metadata": {},
     "output_type": "execute_result"
    }
   ],
   "source": [
    "calendar.calendar(2025)"
   ]
  },
  {
   "cell_type": "code",
   "execution_count": 4,
   "metadata": {},
   "outputs": [
    {
     "data": {
      "text/plain": [
       "3"
      ]
     },
     "execution_count": 4,
     "metadata": {},
     "output_type": "execute_result"
    }
   ],
   "source": [
    "calendar.weekday(2015, 12, 31) # 0: 월요일"
   ]
  },
  {
   "cell_type": "code",
   "execution_count": 7,
   "metadata": {},
   "outputs": [
    {
     "data": {
      "text/plain": [
       "1"
      ]
     },
     "execution_count": 7,
     "metadata": {},
     "output_type": "execute_result"
    }
   ],
   "source": [
    "from calendar import weekday as wd\n",
    "\n",
    "wd(2023, 7, 25)"
   ]
  },
  {
   "cell_type": "code",
   "execution_count": 8,
   "metadata": {},
   "outputs": [
    {
     "data": {
      "text/plain": [
       "1"
      ]
     },
     "execution_count": 8,
     "metadata": {},
     "output_type": "execute_result"
    }
   ],
   "source": [
    "import calendar as cd\n",
    "\n",
    "cd.weekday(2023, 7, 25)"
   ]
  },
  {
   "cell_type": "code",
   "execution_count": null,
   "metadata": {},
   "outputs": [],
   "source": []
  }
 ],
 "metadata": {
  "kernelspec": {
   "display_name": "Python 3",
   "language": "python",
   "name": "python3"
  },
  "language_info": {
   "codemirror_mode": {
    "name": "ipython",
    "version": 3
   },
   "file_extension": ".py",
   "mimetype": "text/x-python",
   "name": "python",
   "nbconvert_exporter": "python",
   "pygments_lexer": "ipython3",
   "version": "3.10.7"
  },
  "orig_nbformat": 4
 },
 "nbformat": 4,
 "nbformat_minor": 2
}
